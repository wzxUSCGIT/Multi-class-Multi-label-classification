{
 "cells": [
  {
   "cell_type": "code",
   "execution_count": 1,
   "metadata": {
    "collapsed": true
   },
   "outputs": [],
   "source": [
    "#Multi-class Multi-label classification"
   ]
  },
  {
   "cell_type": "code",
   "execution_count": 1,
   "metadata": {
    "collapsed": true
   },
   "outputs": [],
   "source": [
    "import numpy as np\n",
    "import pandas as pd\n",
    "from sklearn.svm import SVC\n",
    "\n",
    "data=pd.read_csv('Frogs_MFCCs.csv')"
   ]
  },
  {
   "cell_type": "code",
   "execution_count": 2,
   "metadata": {
    "collapsed": true
   },
   "outputs": [],
   "source": [
    "from sklearn.model_selection import train_test_split\n",
    "data=data.sample(frac=1) # shuffle the data\n",
    "train, test = train_test_split(data, test_size=0.3)\n"
   ]
  },
  {
   "cell_type": "code",
   "execution_count": 27,
   "metadata": {
    "collapsed": true
   },
   "outputs": [],
   "source": [
    "# bi)\n",
    "def exact_match_score(prediction,true): #assume inputs are dataframe and contain only relevant data\n",
    "    num=len(true)\n",
    "    correct=0\n",
    "    for i in range (num):\n",
    "        compare=prediction.iloc[i]==true.iloc[i]\n",
    "        if compare[0]==compare[1]==compare[2]==True:correct=correct+1 \n",
    "    accuracy=correct/num\n",
    "    return (accuracy)\n",
    "\n",
    "\n",
    "from sklearn.metrics import hamming_loss\n",
    "def h_loss(prediction,true):\n",
    "    h_loss=0\n",
    "    for i in range(len(true)):\n",
    "        h_loss=h_loss+hamming_loss(true.iloc[i],prediction.iloc[i])\n",
    "    h_loss=h_loss/len(prediction)\n",
    "    return (h_loss)"
   ]
  },
  {
   "cell_type": "code",
   "execution_count": null,
   "metadata": {
    "collapsed": true
   },
   "outputs": [],
   "source": [
    "#We try c from 10^-3 to 10^8 and gamma from 0.1 to 2.0 with a step of 0.1. \n",
    "#We select those parameters resulting in score larger than 0.8"
   ]
  },
  {
   "cell_type": "code",
   "execution_count": 14,
   "metadata": {
    "collapsed": true
   },
   "outputs": [],
   "source": [
    "#bii)\n",
    "from sklearn.model_selection import GridSearchCV\n",
    "\n",
    "def svm_modelling(train_data,label):\n",
    "    C=[10**(-3),10**(-2),10**(-1),10**(0),10**(1),10**(2),10**(3),10**(4),10**(5),10**(6),10**(7),10**(8)]\n",
    "    gamma=np.arange(0.1, 2.1, 0.1)\n",
    "    \n",
    "    param=np.zeros((1,2))\n",
    "    for c in C:\n",
    "        svm=SVC(C=c,kernel='rbf',gamma='auto')\n",
    "        svm.fit(train_data.iloc[:,0:22], train_data.loc[:,label])\n",
    "        score=svm.score(train_data.iloc[:,0:22], train_data.loc[:,label])\n",
    "        c_score=np.array([c,score]).reshape((1,2))\n",
    "        param=np.concatenate((param,c_score),axis=0)\n",
    "    param=param[1:]\n",
    "    param=np.array([a for a in param if a[1] >0.8])\n",
    "    C_list=param[:,0]\n",
    "\n",
    "    param=np.zeros((1,2))\n",
    "    for g in gamma:\n",
    "        svm=SVC(kernel='rbf',gamma=g)\n",
    "        svm.fit(train_data.iloc[:,0:22], train_data.loc[:,label])\n",
    "        score=svm.score(train_data.iloc[:,0:22], train_data.loc[:,label])\n",
    "        g_score=np.array([g,score]).reshape((1,2))\n",
    "        param=np.concatenate((param,g_score),axis=0)\n",
    "    param=param[1:]\n",
    "    param=np.array([a for a in param if a[1] >0.8])\n",
    "    g_list=param[:,0]\n",
    "    \n",
    "    svm=SVC()\n",
    "\n",
    "    param_grid = [{'C': C_list, 'gamma': g_list, 'kernel': ['rbf']}]\n",
    "\n",
    "    svm_cv = GridSearchCV(svm, param_grid,cv=10,return_train_score=True,refit=True)\n",
    "    svm_cv.fit(train_data.iloc[:,0:22], train_data.loc[:,label])\n",
    "    print('Best estimator:',svm_cv.best_estimator_)\n",
    "    print('Best score:',svm_cv.best_score_ )\n",
    "    return (svm_cv)\n",
    "    \n",
    "    "
   ]
  },
  {
   "cell_type": "code",
   "execution_count": 301,
   "metadata": {},
   "outputs": [
    {
     "name": "stdout",
     "output_type": "stream",
     "text": [
      "Best estimator: SVC(C=10.0, cache_size=200, class_weight=None, coef0=0.0,\n",
      "  decision_function_shape='ovr', degree=3, gamma=1.2000000000000002,\n",
      "  kernel='rbf', max_iter=-1, probability=False, random_state=None,\n",
      "  shrinking=True, tol=0.001, verbose=False)\n",
      "Best score: 0.992454328832\n"
     ]
    }
   ],
   "source": [
    "family_clf=svm_modelling(train,'Family')"
   ]
  },
  {
   "cell_type": "code",
   "execution_count": 302,
   "metadata": {},
   "outputs": [
    {
     "name": "stdout",
     "output_type": "stream",
     "text": [
      "Best estimator: SVC(C=10.0, cache_size=200, class_weight=None, coef0=0.0,\n",
      "  decision_function_shape='ovr', degree=3, gamma=1.9000000000000001,\n",
      "  kernel='rbf', max_iter=-1, probability=False, random_state=None,\n",
      "  shrinking=True, tol=0.001, verbose=False)\n",
      "Best score: 0.9902700556\n"
     ]
    }
   ],
   "source": [
    "genus_clf=svm_modelling(train,'Genus')"
   ]
  },
  {
   "cell_type": "code",
   "execution_count": 303,
   "metadata": {},
   "outputs": [
    {
     "name": "stdout",
     "output_type": "stream",
     "text": [
      "Best estimator: SVC(C=10.0, cache_size=200, class_weight=None, coef0=0.0,\n",
      "  decision_function_shape='ovr', degree=3, gamma=1.2000000000000002,\n",
      "  kernel='rbf', max_iter=-1, probability=False, random_state=None,\n",
      "  shrinking=True, tol=0.001, verbose=False)\n",
      "Best score: 0.988482922955\n"
     ]
    }
   ],
   "source": [
    "species_clf=svm_modelling(train,'Species')"
   ]
  },
  {
   "cell_type": "code",
   "execution_count": null,
   "metadata": {
    "collapsed": true
   },
   "outputs": [],
   "source": []
  },
  {
   "cell_type": "code",
   "execution_count": 305,
   "metadata": {
    "collapsed": true
   },
   "outputs": [],
   "source": [
    "# Test classifiers on test set\n",
    "from sklearn.metrics import accuracy_score\n",
    "f=family_clf.predict(test.iloc[:,0:22])\n",
    "g=genus_clf.predict(test.iloc[:,0:22])\n",
    "s=species_clf.predict(test.iloc[:,0:22])\n",
    "d = {'Family': f, 'Genus': g,'Species':s}\n",
    "pred= pd.DataFrame(data=d)\n",
    "#accuracy_score(test.loc[:,['Family','Genus','Species']],pred)"
   ]
  },
  {
   "cell_type": "code",
   "execution_count": 306,
   "metadata": {},
   "outputs": [
    {
     "name": "stdout",
     "output_type": "stream",
     "text": [
      "Exact match score: 0.9888837424733673\n",
      "Hamming loss: 0.0067932684885\n"
     ]
    }
   ],
   "source": [
    "from sklearn.metrics import hamming_loss\n",
    "print('Exact match score:',exact_match_score(pred,test.loc[:,['Family','Genus','Species']]))\n",
    "print('Hamming loss:',h_loss(test.loc[:,['Family','Genus','Species']],pred))"
   ]
  },
  {
   "cell_type": "code",
   "execution_count": null,
   "metadata": {
    "collapsed": true
   },
   "outputs": [],
   "source": [
    "#biii)\n",
    "from sklearn.model_selection import cross_validate\n",
    "from sklearn.svm import LinearSVC\n",
    "def linear_svm_modelling(train_data,label):\n",
    "    C=[10**(-3),10**(-2),10**(-1),10**(0),10**(1),10**(2),10**(3),10**(4),10**(5),10**(6),10**(7),10**(8)]\n",
    "    #gamma=np.arange(0.1, 2.1, 0.1)\n",
    "    \n",
    "    param=np.zeros((1,2))\n",
    "    for c in C:\n",
    "        linear_svm=LinearSVC(C=c,penalty='l1',dual=False)\n",
    "        linear_svm.fit(train_data.iloc[:,0:22], train_data.loc[:,label])\n",
    "        score=linear_svm.score(train_data.iloc[:,0:22], train_data.loc[:,label])\n",
    "        c_score=np.array([c,score]).reshape((1,2))\n",
    "        param=np.concatenate((param,c_score),axis=0)\n",
    "    param=param[1:]\n",
    "    param=np.array([a for a in param if a[1] >0.8])\n",
    "    C_list=param[:,0]\n",
    "\n",
    "    \n",
    "    param_grid = [{'C': C_list}]\n",
    "    linear_svm=LinearSVC(penalty='l1',dual=False)\n",
    "    linear_svm_cv = GridSearchCV(linear_svm, param_grid,cv=10,return_train_score=True,refit=True)\n",
    "    linear_svm_cv.fit(train_data.iloc[:,0:22], train_data.loc[:,label])\n",
    "    print('Best estimator:',linear_svm_cv.best_estimator_)\n",
    "    print('Best score:',linear_svm_cv.best_score_ )\n",
    "    return (linear_svm_cv)"
   ]
  },
  {
   "cell_type": "code",
   "execution_count": 322,
   "metadata": {},
   "outputs": [
    {
     "name": "stdout",
     "output_type": "stream",
     "text": [
      "Best estimator: LinearSVC(C=100000.0, class_weight=None, dual=False, fit_intercept=True,\n",
      "     intercept_scaling=1, loss='squared_hinge', max_iter=1000,\n",
      "     multi_class='ovr', penalty='l1', random_state=None, tol=0.0001,\n",
      "     verbose=0)\n",
      "Best score: 0.932684670373\n"
     ]
    }
   ],
   "source": [
    "family_clf_l1=linear_svm_modelling(train,'Family')"
   ]
  },
  {
   "cell_type": "code",
   "execution_count": 323,
   "metadata": {},
   "outputs": [
    {
     "name": "stdout",
     "output_type": "stream",
     "text": [
      "Best estimator: LinearSVC(C=10.0, class_weight=None, dual=False, fit_intercept=True,\n",
      "     intercept_scaling=1, loss='squared_hinge', max_iter=1000,\n",
      "     multi_class='ovr', penalty='l1', random_state=None, tol=0.0001,\n",
      "     verbose=0)\n",
      "Best score: 0.948768864178\n"
     ]
    }
   ],
   "source": [
    "genus_clf_l1=linear_svm_modelling(train,'Genus')"
   ]
  },
  {
   "cell_type": "code",
   "execution_count": 324,
   "metadata": {},
   "outputs": [
    {
     "name": "stdout",
     "output_type": "stream",
     "text": [
      "Best estimator: LinearSVC(C=1000.0, class_weight=None, dual=False, fit_intercept=True,\n",
      "     intercept_scaling=1, loss='squared_hinge', max_iter=1000,\n",
      "     multi_class='ovr', penalty='l1', random_state=None, tol=0.0001,\n",
      "     verbose=0)\n",
      "Best score: 0.957903097697\n"
     ]
    }
   ],
   "source": [
    "species_clf_l1=linear_svm_modelling(train,'Species')"
   ]
  },
  {
   "cell_type": "code",
   "execution_count": 325,
   "metadata": {},
   "outputs": [
    {
     "name": "stdout",
     "output_type": "stream",
     "text": [
      "Exact match score: 0.9161648911533117\n",
      "Hamming loss: 0.0501775513355\n"
     ]
    }
   ],
   "source": [
    "f_l1=family_clf_l1.predict(test.iloc[:,0:22])\n",
    "g_l1=genus_clf_l1.predict(test.iloc[:,0:22])\n",
    "s_l1=species_clf_l1.predict(test.iloc[:,0:22])\n",
    "d_l1 = {'Family': f_l1, 'Genus': g_l1,'Species':s_l1}\n",
    "pred_l1= pd.DataFrame(data=d_l1)\n",
    "\n",
    "print('Exact match score:',exact_match_score(pred_l1,test.loc[:,['Family','Genus','Species']]))\n",
    "print('Hamming loss:',h_loss(test.loc[:,['Family','Genus','Species']],pred_l1))"
   ]
  },
  {
   "cell_type": "code",
   "execution_count": 8,
   "metadata": {
    "collapsed": true
   },
   "outputs": [],
   "source": [
    "# biv)\n",
    "from imblearn.over_sampling import SMOTE"
   ]
  },
  {
   "cell_type": "code",
   "execution_count": 327,
   "metadata": {
    "collapsed": true
   },
   "outputs": [],
   "source": [
    "X_resampled, y_resampled = SMOTE().fit_sample(train.iloc[:,0:22], train.loc[:,'Family'])\n",
    "y_resampled=np.resize(y_resampled,(len(y_resampled),1))\n",
    "train_smote_f=np.concatenate((X_resampled,y_resampled),axis=1)\n",
    "train_smote_f=pd.DataFrame(train_smote_f)\n",
    "train_smote_f.rename(columns={22:'Family'}, inplace=True )\n",
    "\n",
    "X_resampled, y_resampled = SMOTE().fit_sample(train.iloc[:,0:22], train.loc[:,'Genus'])\n",
    "y_resampled=np.resize(y_resampled,(len(y_resampled),1))\n",
    "train_smote_g=np.concatenate((X_resampled,y_resampled),axis=1)\n",
    "train_smote_g=pd.DataFrame(train_smote_g)\n",
    "train_smote_g.rename(columns={22:'Genus'}, inplace=True )\n",
    "\n",
    "X_resampled, y_resampled = SMOTE().fit_sample(train.iloc[:,0:22], train.loc[:,'Species'])\n",
    "y_resampled=np.resize(y_resampled,(len(y_resampled),1))\n",
    "train_smote_s=np.concatenate((X_resampled,y_resampled),axis=1)\n",
    "train_smote_s=pd.DataFrame(train_smote_s)\n",
    "train_smote_s.rename(columns={22:'Species'}, inplace=True )"
   ]
  },
  {
   "cell_type": "code",
   "execution_count": 328,
   "metadata": {},
   "outputs": [
    {
     "name": "stdout",
     "output_type": "stream",
     "text": [
      "Best estimator: LinearSVC(C=100.0, class_weight=None, dual=False, fit_intercept=True,\n",
      "     intercept_scaling=1, loss='squared_hinge', max_iter=1000,\n",
      "     multi_class='ovr', penalty='l1', random_state=None, tol=0.0001,\n",
      "     verbose=0)\n",
      "Best score: 0.945137555982\n",
      "Best estimator: LinearSVC(C=100000000.0, class_weight=None, dual=False, fit_intercept=True,\n",
      "     intercept_scaling=1, loss='squared_hinge', max_iter=1000,\n",
      "     multi_class='ovr', penalty='l1', random_state=None, tol=0.0001,\n",
      "     verbose=0)\n",
      "Best score: 0.954831575366\n",
      "Best estimator: LinearSVC(C=1000.0, class_weight=None, dual=False, fit_intercept=True,\n",
      "     intercept_scaling=1, loss='squared_hinge', max_iter=1000,\n",
      "     multi_class='ovr', penalty='l1', random_state=None, tol=0.0001,\n",
      "     verbose=0)\n",
      "Best score: 0.954242793341\n"
     ]
    }
   ],
   "source": [
    "# Use SMOTE and retrain L1 penalized Linear SVC\n",
    "family_clf_l1_smote=linear_svm_modelling(train_smote_f,'Family')\n",
    "genus_clf_l1_smote=linear_svm_modelling(train_smote_g,'Genus')\n",
    "species_clf_l1_smote=linear_svm_modelling(train_smote_s,'Species')"
   ]
  },
  {
   "cell_type": "code",
   "execution_count": 329,
   "metadata": {},
   "outputs": [
    {
     "name": "stdout",
     "output_type": "stream",
     "text": [
      "Exact match score: 0.8582677165354331\n",
      "Hamming loss: 0.0722556739231\n"
     ]
    }
   ],
   "source": [
    "f_l1_smote=family_clf_l1_smote.predict(test.iloc[:,0:22])\n",
    "g_l1_smote=genus_clf_l1_smote.predict(test.iloc[:,0:22])\n",
    "s_l1_smote=species_clf_l1_smote.predict(test.iloc[:,0:22])\n",
    "d_l1_smote = {'Family': f_l1_smote, 'Genus': g_l1_smote,'Species':s_l1_smote}\n",
    "pred_l1_smote= pd.DataFrame(data=d_l1_smote)\n",
    "\n",
    "print('Exact match score:',exact_match_score(pred_l1_smote,test.loc[:,['Family','Genus','Species']]))\n",
    "print('Hamming loss:',h_loss(test.loc[:,['Family','Genus','Species']],pred_l1_smote))"
   ]
  },
  {
   "cell_type": "markdown",
   "metadata": {},
   "source": [
    "From the above results, we can see that SVM with Gaussian kernel has the best performance. Even though using SMOTE solve the issue of class imbalance, linear SVC cannot generate best results."
   ]
  },
  {
   "cell_type": "code",
   "execution_count": null,
   "metadata": {
    "collapsed": true
   },
   "outputs": [],
   "source": [
    "#bv) Chain Classifier \n",
    "#Using SMOTE to generate balanced dataset\n",
    "# it is known that family>genus>species and therefore the order of chain classifier is determined "
   ]
  },
  {
   "cell_type": "code",
   "execution_count": 9,
   "metadata": {
    "collapsed": true
   },
   "outputs": [],
   "source": [
    "# convert string to int in the training set \n",
    "import copy\n",
    "train2=copy.copy(train)\n",
    "test2=copy.copy(test)\n",
    "\n",
    "temp_f = train2.loc[:,'Family'].astype('category')\n",
    "temp_f = temp_f.cat.codes\n",
    "temp_g = train2.loc[:,'Genus'].astype('category')\n",
    "temp_g = temp_g.cat.codes\n",
    "temp_s = train2.loc[:,'Species'].astype('category')\n",
    "temp_s = temp_s.cat.codes\n",
    "\n",
    "test_temp_f = test2.loc[:,'Family'].astype('category')\n",
    "test_temp_f = test_temp_f.cat.codes\n",
    "test_temp_g = test2.loc[:,'Genus'].astype('category')\n",
    "test_temp_g = test_temp_g.cat.codes\n",
    "test_temp_s = test2.loc[:,'Species'].astype('category')\n",
    "test_temp_s = test_temp_s.cat.codes"
   ]
  },
  {
   "cell_type": "code",
   "execution_count": 10,
   "metadata": {
    "collapsed": true
   },
   "outputs": [],
   "source": [
    "train2.loc[:,'Family']=temp_f\n",
    "train2.loc[:,'Genus']=temp_g\n",
    "train2.loc[:,'Species']=temp_s\n",
    "\n",
    "test2.loc[:,'Family']=test_temp_f\n",
    "test2.loc[:,'Genus']=test_temp_g\n",
    "test2.loc[:,'Species']=test_temp_s"
   ]
  },
  {
   "cell_type": "code",
   "execution_count": 11,
   "metadata": {
    "collapsed": true
   },
   "outputs": [],
   "source": [
    "X_resampled, y_resampled = SMOTE().fit_sample(train2.iloc[:,0:22], train2.loc[:,'Family'])\n",
    "y_resampled=np.resize(y_resampled,(len(y_resampled),1))\n",
    "cc_train2_smote_f=np.concatenate((X_resampled,y_resampled),axis=1)\n",
    "cc_train2_smote_f=pd.DataFrame(cc_train2_smote_f)\n",
    "cc_train2_smote_f.rename(columns={22:'Family'}, inplace=True )\n",
    "\n",
    "X_resampled, y_resampled = SMOTE().fit_sample(train2.iloc[:,0:23], train2.loc[:,'Genus'])\n",
    "y_resampled=np.resize(y_resampled,(len(y_resampled),1))\n",
    "cc_train2_smote_g=np.concatenate((X_resampled,y_resampled),axis=1)\n",
    "cc_train2_smote_g=pd.DataFrame(cc_train2_smote_g)\n",
    "cc_train2_smote_g.rename(columns={23:'Genus'}, inplace=True )\n",
    "\n",
    "X_resampled, y_resampled = SMOTE().fit_sample(train2.iloc[:,0:24], train2.loc[:,'Species'])\n",
    "y_resampled=np.resize(y_resampled,(len(y_resampled),1))\n",
    "cc_train2_smote_s=np.concatenate((X_resampled,y_resampled),axis=1)\n",
    "cc_train2_smote_s=pd.DataFrame(cc_train2_smote_s)\n",
    "cc_train2_smote_s.rename(columns={24:'Species'}, inplace=True )"
   ]
  },
  {
   "cell_type": "code",
   "execution_count": 17,
   "metadata": {
    "collapsed": true
   },
   "outputs": [],
   "source": [
    "# chain classifier \n",
    "def chain_svm_modelling(train_data,label):\n",
    "    C=[10**(-3),10**(-2),10**(-1),10**(0),10**(1),10**(2),10**(3),10**(4),10**(5),10**(6),10**(7),10**(8)]\n",
    "    gamma=np.arange(0.1, 2.1, 0.1)\n",
    "    if label=='Family':index=22\n",
    "    elif label=='Genus':index=23\n",
    "    elif label=='Species':index=24\n",
    "    param=np.zeros((1,2))\n",
    "    for c in C:\n",
    "        svm=SVC(C=c,kernel='rbf',gamma='auto')\n",
    "        svm.fit(train_data.iloc[:,:index], train_data.loc[:,label])\n",
    "        score=svm.score(train_data.iloc[:,:index], train_data.loc[:,label])\n",
    "        c_score=np.array([c,score]).reshape((1,2))\n",
    "        param=np.concatenate((param,c_score),axis=0)\n",
    "    param=param[1:]\n",
    "    param=np.array([a for a in param if a[1] >0.8])\n",
    "    C_list=param[:,0]\n",
    "\n",
    "    param=np.zeros((1,2))\n",
    "    for g in gamma:\n",
    "        svm=SVC(kernel='rbf',gamma=g)\n",
    "        svm.fit(train_data.iloc[:,:index], train_data.loc[:,label])\n",
    "        score=svm.score(train_data.iloc[:,:index], train_data.loc[:,label])\n",
    "        g_score=np.array([g,score]).reshape((1,2))\n",
    "        param=np.concatenate((param,g_score),axis=0)\n",
    "    param=param[1:]\n",
    "    param=np.array([a for a in param if a[1] >0.8])\n",
    "    g_list=param[:,0]\n",
    "    \n",
    "    svm=SVC()\n",
    "\n",
    "    param_grid = [{'C': C_list, 'gamma': g_list, 'kernel': ['rbf']}]\n",
    "\n",
    "    svm_cv = GridSearchCV(svm, param_grid,cv=10,return_train_score=True,refit=True,n_jobs=-1)\n",
    "    svm_cv.fit(train_data.iloc[:,:index], train_data.loc[:,label])\n",
    "    print('Best estimator:',svm_cv.best_estimator_)\n",
    "    print('Best score:',svm_cv.best_score_ )\n",
    "    return (svm_cv)\n",
    "    "
   ]
  },
  {
   "cell_type": "code",
   "execution_count": 336,
   "metadata": {},
   "outputs": [
    {
     "name": "stdout",
     "output_type": "stream",
     "text": [
      "Best estimator: SVC(C=100.0, cache_size=200, class_weight=None, coef0=0.0,\n",
      "  decision_function_shape='ovr', degree=3, gamma=1.6000000000000001,\n",
      "  kernel='rbf', max_iter=-1, probability=False, random_state=None,\n",
      "  shrinking=True, tol=0.001, verbose=False)\n",
      "Best score: 0.998080614203\n"
     ]
    }
   ],
   "source": [
    "chain_family_clf=chain_svm_modelling(cc_train2_smote_f,'Family')"
   ]
  },
  {
   "cell_type": "code",
   "execution_count": 337,
   "metadata": {},
   "outputs": [
    {
     "name": "stdout",
     "output_type": "stream",
     "text": [
      "Best estimator: SVC(C=10.0, cache_size=200, class_weight=None, coef0=0.0,\n",
      "  decision_function_shape='ovr', degree=3, gamma=1.7000000000000002,\n",
      "  kernel='rbf', max_iter=-1, probability=False, random_state=None,\n",
      "  shrinking=True, tol=0.001, verbose=False)\n",
      "Best score: 0.999787342634\n"
     ]
    }
   ],
   "source": [
    "chain_genus_clf=chain_svm_modelling(cc_train2_smote_g,'Genus')"
   ]
  },
  {
   "cell_type": "code",
   "execution_count": 18,
   "metadata": {},
   "outputs": [
    {
     "ename": "KeyboardInterrupt",
     "evalue": "",
     "output_type": "error",
     "traceback": [
      "\u001b[1;31m---------------------------------------------------------------------------\u001b[0m",
      "\u001b[1;31mKeyboardInterrupt\u001b[0m                         Traceback (most recent call last)",
      "\u001b[1;32m<ipython-input-18-1e5d1653a5a9>\u001b[0m in \u001b[0;36m<module>\u001b[1;34m()\u001b[0m\n\u001b[1;32m----> 1\u001b[1;33m \u001b[0mchain_species_clf\u001b[0m\u001b[1;33m=\u001b[0m\u001b[0mchain_svm_modelling\u001b[0m\u001b[1;33m(\u001b[0m\u001b[0mcc_train2_smote_s\u001b[0m\u001b[1;33m,\u001b[0m\u001b[1;34m'Species'\u001b[0m\u001b[1;33m)\u001b[0m\u001b[1;33m\u001b[0m\u001b[0m\n\u001b[0m",
      "\u001b[1;32m<ipython-input-17-7f91c6eaa1c5>\u001b[0m in \u001b[0;36mchain_svm_modelling\u001b[1;34m(train_data, label)\u001b[0m\n\u001b[0;32m     33\u001b[0m \u001b[1;33m\u001b[0m\u001b[0m\n\u001b[0;32m     34\u001b[0m     \u001b[0msvm_cv\u001b[0m \u001b[1;33m=\u001b[0m \u001b[0mGridSearchCV\u001b[0m\u001b[1;33m(\u001b[0m\u001b[0msvm\u001b[0m\u001b[1;33m,\u001b[0m \u001b[0mparam_grid\u001b[0m\u001b[1;33m,\u001b[0m\u001b[0mcv\u001b[0m\u001b[1;33m=\u001b[0m\u001b[1;36m10\u001b[0m\u001b[1;33m,\u001b[0m\u001b[0mreturn_train_score\u001b[0m\u001b[1;33m=\u001b[0m\u001b[1;32mTrue\u001b[0m\u001b[1;33m,\u001b[0m\u001b[0mrefit\u001b[0m\u001b[1;33m=\u001b[0m\u001b[1;32mTrue\u001b[0m\u001b[1;33m,\u001b[0m\u001b[0mn_jobs\u001b[0m\u001b[1;33m=\u001b[0m\u001b[1;33m-\u001b[0m\u001b[1;36m1\u001b[0m\u001b[1;33m)\u001b[0m\u001b[1;33m\u001b[0m\u001b[0m\n\u001b[1;32m---> 35\u001b[1;33m     \u001b[0msvm_cv\u001b[0m\u001b[1;33m.\u001b[0m\u001b[0mfit\u001b[0m\u001b[1;33m(\u001b[0m\u001b[0mtrain_data\u001b[0m\u001b[1;33m.\u001b[0m\u001b[0miloc\u001b[0m\u001b[1;33m[\u001b[0m\u001b[1;33m:\u001b[0m\u001b[1;33m,\u001b[0m\u001b[1;33m:\u001b[0m\u001b[0mindex\u001b[0m\u001b[1;33m]\u001b[0m\u001b[1;33m,\u001b[0m \u001b[0mtrain_data\u001b[0m\u001b[1;33m.\u001b[0m\u001b[0mloc\u001b[0m\u001b[1;33m[\u001b[0m\u001b[1;33m:\u001b[0m\u001b[1;33m,\u001b[0m\u001b[0mlabel\u001b[0m\u001b[1;33m]\u001b[0m\u001b[1;33m)\u001b[0m\u001b[1;33m\u001b[0m\u001b[0m\n\u001b[0m\u001b[0;32m     36\u001b[0m     \u001b[0mprint\u001b[0m\u001b[1;33m(\u001b[0m\u001b[1;34m'Best estimator:'\u001b[0m\u001b[1;33m,\u001b[0m\u001b[0msvm_cv\u001b[0m\u001b[1;33m.\u001b[0m\u001b[0mbest_estimator_\u001b[0m\u001b[1;33m)\u001b[0m\u001b[1;33m\u001b[0m\u001b[0m\n\u001b[0;32m     37\u001b[0m     \u001b[0mprint\u001b[0m\u001b[1;33m(\u001b[0m\u001b[1;34m'Best score:'\u001b[0m\u001b[1;33m,\u001b[0m\u001b[0msvm_cv\u001b[0m\u001b[1;33m.\u001b[0m\u001b[0mbest_score_\u001b[0m \u001b[1;33m)\u001b[0m\u001b[1;33m\u001b[0m\u001b[0m\n",
      "\u001b[1;32mD:\\Anaconda\\python3\\lib\\site-packages\\sklearn\\model_selection\\_search.py\u001b[0m in \u001b[0;36mfit\u001b[1;34m(self, X, y, groups, **fit_params)\u001b[0m\n\u001b[0;32m    637\u001b[0m                                   error_score=self.error_score)\n\u001b[0;32m    638\u001b[0m           for parameters, (train, test) in product(candidate_params,\n\u001b[1;32m--> 639\u001b[1;33m                                                    cv.split(X, y, groups)))\n\u001b[0m\u001b[0;32m    640\u001b[0m \u001b[1;33m\u001b[0m\u001b[0m\n\u001b[0;32m    641\u001b[0m         \u001b[1;31m# if one choose to see train score, \"out\" will contain train score info\u001b[0m\u001b[1;33m\u001b[0m\u001b[1;33m\u001b[0m\u001b[0m\n",
      "\u001b[1;32mD:\\Anaconda\\python3\\lib\\site-packages\\sklearn\\externals\\joblib\\parallel.py\u001b[0m in \u001b[0;36m__call__\u001b[1;34m(self, iterable)\u001b[0m\n\u001b[0;32m    787\u001b[0m                 \u001b[1;31m# consumption.\u001b[0m\u001b[1;33m\u001b[0m\u001b[1;33m\u001b[0m\u001b[0m\n\u001b[0;32m    788\u001b[0m                 \u001b[0mself\u001b[0m\u001b[1;33m.\u001b[0m\u001b[0m_iterating\u001b[0m \u001b[1;33m=\u001b[0m \u001b[1;32mFalse\u001b[0m\u001b[1;33m\u001b[0m\u001b[0m\n\u001b[1;32m--> 789\u001b[1;33m             \u001b[0mself\u001b[0m\u001b[1;33m.\u001b[0m\u001b[0mretrieve\u001b[0m\u001b[1;33m(\u001b[0m\u001b[1;33m)\u001b[0m\u001b[1;33m\u001b[0m\u001b[0m\n\u001b[0m\u001b[0;32m    790\u001b[0m             \u001b[1;31m# Make sure that we get a last message telling us we are done\u001b[0m\u001b[1;33m\u001b[0m\u001b[1;33m\u001b[0m\u001b[0m\n\u001b[0;32m    791\u001b[0m             \u001b[0melapsed_time\u001b[0m \u001b[1;33m=\u001b[0m \u001b[0mtime\u001b[0m\u001b[1;33m.\u001b[0m\u001b[0mtime\u001b[0m\u001b[1;33m(\u001b[0m\u001b[1;33m)\u001b[0m \u001b[1;33m-\u001b[0m \u001b[0mself\u001b[0m\u001b[1;33m.\u001b[0m\u001b[0m_start_time\u001b[0m\u001b[1;33m\u001b[0m\u001b[0m\n",
      "\u001b[1;32mD:\\Anaconda\\python3\\lib\\site-packages\\sklearn\\externals\\joblib\\parallel.py\u001b[0m in \u001b[0;36mretrieve\u001b[1;34m(self)\u001b[0m\n\u001b[0;32m    697\u001b[0m             \u001b[1;32mtry\u001b[0m\u001b[1;33m:\u001b[0m\u001b[1;33m\u001b[0m\u001b[0m\n\u001b[0;32m    698\u001b[0m                 \u001b[1;32mif\u001b[0m \u001b[0mgetattr\u001b[0m\u001b[1;33m(\u001b[0m\u001b[0mself\u001b[0m\u001b[1;33m.\u001b[0m\u001b[0m_backend\u001b[0m\u001b[1;33m,\u001b[0m \u001b[1;34m'supports_timeout'\u001b[0m\u001b[1;33m,\u001b[0m \u001b[1;32mFalse\u001b[0m\u001b[1;33m)\u001b[0m\u001b[1;33m:\u001b[0m\u001b[1;33m\u001b[0m\u001b[0m\n\u001b[1;32m--> 699\u001b[1;33m                     \u001b[0mself\u001b[0m\u001b[1;33m.\u001b[0m\u001b[0m_output\u001b[0m\u001b[1;33m.\u001b[0m\u001b[0mextend\u001b[0m\u001b[1;33m(\u001b[0m\u001b[0mjob\u001b[0m\u001b[1;33m.\u001b[0m\u001b[0mget\u001b[0m\u001b[1;33m(\u001b[0m\u001b[0mtimeout\u001b[0m\u001b[1;33m=\u001b[0m\u001b[0mself\u001b[0m\u001b[1;33m.\u001b[0m\u001b[0mtimeout\u001b[0m\u001b[1;33m)\u001b[0m\u001b[1;33m)\u001b[0m\u001b[1;33m\u001b[0m\u001b[0m\n\u001b[0m\u001b[0;32m    700\u001b[0m                 \u001b[1;32melse\u001b[0m\u001b[1;33m:\u001b[0m\u001b[1;33m\u001b[0m\u001b[0m\n\u001b[0;32m    701\u001b[0m                     \u001b[0mself\u001b[0m\u001b[1;33m.\u001b[0m\u001b[0m_output\u001b[0m\u001b[1;33m.\u001b[0m\u001b[0mextend\u001b[0m\u001b[1;33m(\u001b[0m\u001b[0mjob\u001b[0m\u001b[1;33m.\u001b[0m\u001b[0mget\u001b[0m\u001b[1;33m(\u001b[0m\u001b[1;33m)\u001b[0m\u001b[1;33m)\u001b[0m\u001b[1;33m\u001b[0m\u001b[0m\n",
      "\u001b[1;32mD:\\Anaconda\\python3\\lib\\multiprocessing\\pool.py\u001b[0m in \u001b[0;36mget\u001b[1;34m(self, timeout)\u001b[0m\n\u001b[0;32m    636\u001b[0m \u001b[1;33m\u001b[0m\u001b[0m\n\u001b[0;32m    637\u001b[0m     \u001b[1;32mdef\u001b[0m \u001b[0mget\u001b[0m\u001b[1;33m(\u001b[0m\u001b[0mself\u001b[0m\u001b[1;33m,\u001b[0m \u001b[0mtimeout\u001b[0m\u001b[1;33m=\u001b[0m\u001b[1;32mNone\u001b[0m\u001b[1;33m)\u001b[0m\u001b[1;33m:\u001b[0m\u001b[1;33m\u001b[0m\u001b[0m\n\u001b[1;32m--> 638\u001b[1;33m         \u001b[0mself\u001b[0m\u001b[1;33m.\u001b[0m\u001b[0mwait\u001b[0m\u001b[1;33m(\u001b[0m\u001b[0mtimeout\u001b[0m\u001b[1;33m)\u001b[0m\u001b[1;33m\u001b[0m\u001b[0m\n\u001b[0m\u001b[0;32m    639\u001b[0m         \u001b[1;32mif\u001b[0m \u001b[1;32mnot\u001b[0m \u001b[0mself\u001b[0m\u001b[1;33m.\u001b[0m\u001b[0mready\u001b[0m\u001b[1;33m(\u001b[0m\u001b[1;33m)\u001b[0m\u001b[1;33m:\u001b[0m\u001b[1;33m\u001b[0m\u001b[0m\n\u001b[0;32m    640\u001b[0m             \u001b[1;32mraise\u001b[0m \u001b[0mTimeoutError\u001b[0m\u001b[1;33m\u001b[0m\u001b[0m\n",
      "\u001b[1;32mD:\\Anaconda\\python3\\lib\\multiprocessing\\pool.py\u001b[0m in \u001b[0;36mwait\u001b[1;34m(self, timeout)\u001b[0m\n\u001b[0;32m    633\u001b[0m \u001b[1;33m\u001b[0m\u001b[0m\n\u001b[0;32m    634\u001b[0m     \u001b[1;32mdef\u001b[0m \u001b[0mwait\u001b[0m\u001b[1;33m(\u001b[0m\u001b[0mself\u001b[0m\u001b[1;33m,\u001b[0m \u001b[0mtimeout\u001b[0m\u001b[1;33m=\u001b[0m\u001b[1;32mNone\u001b[0m\u001b[1;33m)\u001b[0m\u001b[1;33m:\u001b[0m\u001b[1;33m\u001b[0m\u001b[0m\n\u001b[1;32m--> 635\u001b[1;33m         \u001b[0mself\u001b[0m\u001b[1;33m.\u001b[0m\u001b[0m_event\u001b[0m\u001b[1;33m.\u001b[0m\u001b[0mwait\u001b[0m\u001b[1;33m(\u001b[0m\u001b[0mtimeout\u001b[0m\u001b[1;33m)\u001b[0m\u001b[1;33m\u001b[0m\u001b[0m\n\u001b[0m\u001b[0;32m    636\u001b[0m \u001b[1;33m\u001b[0m\u001b[0m\n\u001b[0;32m    637\u001b[0m     \u001b[1;32mdef\u001b[0m \u001b[0mget\u001b[0m\u001b[1;33m(\u001b[0m\u001b[0mself\u001b[0m\u001b[1;33m,\u001b[0m \u001b[0mtimeout\u001b[0m\u001b[1;33m=\u001b[0m\u001b[1;32mNone\u001b[0m\u001b[1;33m)\u001b[0m\u001b[1;33m:\u001b[0m\u001b[1;33m\u001b[0m\u001b[0m\n",
      "\u001b[1;32mD:\\Anaconda\\python3\\lib\\threading.py\u001b[0m in \u001b[0;36mwait\u001b[1;34m(self, timeout)\u001b[0m\n\u001b[0;32m    549\u001b[0m             \u001b[0msignaled\u001b[0m \u001b[1;33m=\u001b[0m \u001b[0mself\u001b[0m\u001b[1;33m.\u001b[0m\u001b[0m_flag\u001b[0m\u001b[1;33m\u001b[0m\u001b[0m\n\u001b[0;32m    550\u001b[0m             \u001b[1;32mif\u001b[0m \u001b[1;32mnot\u001b[0m \u001b[0msignaled\u001b[0m\u001b[1;33m:\u001b[0m\u001b[1;33m\u001b[0m\u001b[0m\n\u001b[1;32m--> 551\u001b[1;33m                 \u001b[0msignaled\u001b[0m \u001b[1;33m=\u001b[0m \u001b[0mself\u001b[0m\u001b[1;33m.\u001b[0m\u001b[0m_cond\u001b[0m\u001b[1;33m.\u001b[0m\u001b[0mwait\u001b[0m\u001b[1;33m(\u001b[0m\u001b[0mtimeout\u001b[0m\u001b[1;33m)\u001b[0m\u001b[1;33m\u001b[0m\u001b[0m\n\u001b[0m\u001b[0;32m    552\u001b[0m             \u001b[1;32mreturn\u001b[0m \u001b[0msignaled\u001b[0m\u001b[1;33m\u001b[0m\u001b[0m\n\u001b[0;32m    553\u001b[0m \u001b[1;33m\u001b[0m\u001b[0m\n",
      "\u001b[1;32mD:\\Anaconda\\python3\\lib\\threading.py\u001b[0m in \u001b[0;36mwait\u001b[1;34m(self, timeout)\u001b[0m\n\u001b[0;32m    293\u001b[0m         \u001b[1;32mtry\u001b[0m\u001b[1;33m:\u001b[0m    \u001b[1;31m# restore state no matter what (e.g., KeyboardInterrupt)\u001b[0m\u001b[1;33m\u001b[0m\u001b[0m\n\u001b[0;32m    294\u001b[0m             \u001b[1;32mif\u001b[0m \u001b[0mtimeout\u001b[0m \u001b[1;32mis\u001b[0m \u001b[1;32mNone\u001b[0m\u001b[1;33m:\u001b[0m\u001b[1;33m\u001b[0m\u001b[0m\n\u001b[1;32m--> 295\u001b[1;33m                 \u001b[0mwaiter\u001b[0m\u001b[1;33m.\u001b[0m\u001b[0macquire\u001b[0m\u001b[1;33m(\u001b[0m\u001b[1;33m)\u001b[0m\u001b[1;33m\u001b[0m\u001b[0m\n\u001b[0m\u001b[0;32m    296\u001b[0m                 \u001b[0mgotit\u001b[0m \u001b[1;33m=\u001b[0m \u001b[1;32mTrue\u001b[0m\u001b[1;33m\u001b[0m\u001b[0m\n\u001b[0;32m    297\u001b[0m             \u001b[1;32melse\u001b[0m\u001b[1;33m:\u001b[0m\u001b[1;33m\u001b[0m\u001b[0m\n",
      "\u001b[1;31mKeyboardInterrupt\u001b[0m: "
     ]
    }
   ],
   "source": [
    "chain_species_clf=chain_svm_modelling(cc_train2_smote_s,'Species')"
   ]
  },
  {
   "cell_type": "markdown",
   "metadata": {},
   "source": [
    "It is too time-consuming to train a svm classfier using smote."
   ]
  },
  {
   "cell_type": "markdown",
   "metadata": {},
   "source": [
    "Use original dataset for training instead"
   ]
  },
  {
   "cell_type": "code",
   "execution_count": 22,
   "metadata": {},
   "outputs": [
    {
     "name": "stdout",
     "output_type": "stream",
     "text": [
      "Best estimator: SVC(C=10.0, cache_size=200, class_weight=None, coef0=0.0,\n",
      "  decision_function_shape='ovr', degree=3, gamma=1.8000000000000003,\n",
      "  kernel='rbf', max_iter=-1, probability=False, random_state=None,\n",
      "  shrinking=True, tol=0.001, verbose=False)\n",
      "Best score: 0.989810097267\n",
      "Best estimator: SVC(C=100.0, cache_size=200, class_weight=None, coef0=0.0,\n",
      "  decision_function_shape='ovr', degree=3, gamma=0.40000000000000002,\n",
      "  kernel='rbf', max_iter=-1, probability=False, random_state=None,\n",
      "  shrinking=True, tol=0.001, verbose=False)\n",
      "Best score: 0.997684113015\n",
      "Best estimator: SVC(C=10.0, cache_size=200, class_weight=None, coef0=0.0,\n",
      "  decision_function_shape='ovr', degree=3, gamma=0.20000000000000001,\n",
      "  kernel='rbf', max_iter=-1, probability=False, random_state=None,\n",
      "  shrinking=True, tol=0.001, verbose=False)\n",
      "Best score: 0.999073645206\n"
     ]
    }
   ],
   "source": [
    "chain_family_clf2=chain_svm_modelling(test2,'Family')\n",
    "chain_genus_clf2=chain_svm_modelling(test2,'Genus')\n",
    "chain_species_clf2=chain_svm_modelling(test2,'Species')"
   ]
  },
  {
   "cell_type": "code",
   "execution_count": 28,
   "metadata": {},
   "outputs": [
    {
     "name": "stdout",
     "output_type": "stream",
     "text": [
      "Exact match score: 0.999536822603057\n",
      "Hamming loss: 0.000154392465648\n"
     ]
    }
   ],
   "source": [
    "test3=copy.copy(test2)\n",
    "f_chain=chain_family_clf2.predict(test3.iloc[:,0:22])\n",
    "test3.loc[:,'Family']=f_chain\n",
    "g_chain=chain_genus_clf2.predict(test3.iloc[:,0:23])\n",
    "test3.loc[:,'Genus']=g_chain\n",
    "s_chain=chain_species_clf2.predict(test3.iloc[:,0:24])\n",
    "test3.loc[:,'Species']=s_chain\n",
    "d_chain = {'Family': f_chain, 'Genus': g_chain,'Species':s_chain}\n",
    "pred_chain= pd.DataFrame(data=d_chain)\n",
    "\n",
    "print('Exact match score:',exact_match_score(pred_chain,test2.loc[:,['Family','Genus','Species']]))\n",
    "print('Hamming loss:',h_loss(test2.loc[:,['Family','Genus','Species']],pred_chain))"
   ]
  },
  {
   "cell_type": "markdown",
   "metadata": {
    "collapsed": true
   },
   "source": [
    "We can see that using a chain classfier can give more accurate result!"
   ]
  },
  {
   "cell_type": "code",
   "execution_count": null,
   "metadata": {
    "collapsed": true
   },
   "outputs": [],
   "source": []
  }
 ],
 "metadata": {
  "kernelspec": {
   "display_name": "Python 3",
   "language": "python",
   "name": "python3"
  },
  "language_info": {
   "codemirror_mode": {
    "name": "ipython",
    "version": 3
   },
   "file_extension": ".py",
   "mimetype": "text/x-python",
   "name": "python",
   "nbconvert_exporter": "python",
   "pygments_lexer": "ipython3",
   "version": "3.6.1"
  }
 },
 "nbformat": 4,
 "nbformat_minor": 2
}
